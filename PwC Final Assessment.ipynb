{
 "cells": [
  {
   "cell_type": "code",
   "execution_count": 1,
   "id": "937eaadd-ca11-437d-83d8-031ed92707be",
   "metadata": {},
   "outputs": [
    {
     "name": "stdout",
     "output_type": "stream",
     "text": [
      "Requirement already satisfied: openpyxl in c:\\users\\vatsal gosalia\\appdata\\local\\programs\\python\\python312\\lib\\site-packages (3.1.5)\n",
      "Requirement already satisfied: et-xmlfile in c:\\users\\vatsal gosalia\\appdata\\local\\programs\\python\\python312\\lib\\site-packages (from openpyxl) (1.1.0)\n",
      "Note: you may need to restart the kernel to use updated packages.\n"
     ]
    },
    {
     "name": "stderr",
     "output_type": "stream",
     "text": [
      "\n",
      "[notice] A new release of pip is available: 24.1 -> 24.2\n",
      "[notice] To update, run: python.exe -m pip install --upgrade pip\n"
     ]
    }
   ],
   "source": [
    "pip install openpyxl"
   ]
  },
  {
   "cell_type": "code",
   "execution_count": 2,
   "id": "011b4417-8c7a-4c2a-9dfd-439e78775fb4",
   "metadata": {},
   "outputs": [],
   "source": [
    "import pandas as pd\n",
    "import numpy as np"
   ]
  },
  {
   "cell_type": "code",
   "execution_count": 3,
   "id": "a645baed-fad8-4b3b-aa26-69f167c3f1d3",
   "metadata": {},
   "outputs": [],
   "source": [
    "df = pd.read_excel(r\"C:\\Users\\Vatsal Gosalia\\Downloads\\HR_Data_Science_Assessment.xlsx\", sheet_name='Employee_Data')"
   ]
  },
  {
   "cell_type": "code",
   "execution_count": 4,
   "id": "9de09128-7086-4f5d-8847-7a1dce8d60b6",
   "metadata": {},
   "outputs": [
    {
     "name": "stdout",
     "output_type": "stream",
     "text": [
      "<class 'pandas.core.frame.DataFrame'>\n",
      "RangeIndex: 100 entries, 0 to 99\n",
      "Data columns (total 8 columns):\n",
      " #   Column                     Non-Null Count  Dtype  \n",
      "---  ------                     --------------  -----  \n",
      " 0   Employee_ID                100 non-null    int64  \n",
      " 1   Age                        100 non-null    int64  \n",
      " 2   Department                 100 non-null    object \n",
      " 3   Salary                     100 non-null    int64  \n",
      " 4   Years_at_Company           100 non-null    int64  \n",
      " 5   Performance_Rating         100 non-null    float64\n",
      " 6   Promotion_in_last_5_years  100 non-null    int64  \n",
      " 7   Turnover                   100 non-null    int64  \n",
      "dtypes: float64(1), int64(6), object(1)\n",
      "memory usage: 6.4+ KB\n"
     ]
    }
   ],
   "source": [
    "# Let's look at the data types of each feature\n",
    "df.info()"
   ]
  },
  {
   "cell_type": "markdown",
   "id": "81593952-af35-4d87-b795-18860d4af81b",
   "metadata": {},
   "source": [
    "**As we can from the above information, the data types of each feature is correct and it also seems there are no null values. Let us see more deeply if the information is correct.**"
   ]
  },
  {
   "cell_type": "code",
   "execution_count": 5,
   "id": "f293417c-2f53-42c7-9b4e-23e89e12b4ee",
   "metadata": {},
   "outputs": [
    {
     "data": {
      "text/plain": [
       "(100, 8)"
      ]
     },
     "execution_count": 5,
     "metadata": {},
     "output_type": "execute_result"
    }
   ],
   "source": [
    "df.shape"
   ]
  },
  {
   "cell_type": "code",
   "execution_count": 6,
   "id": "48ec3bc1-ad09-4d63-9453-1ed1fa355492",
   "metadata": {},
   "outputs": [],
   "source": [
    "# Let's find out how many missing values we have\n",
    "features_with_na = [features for features in df.columns if df[features].isnull().sum()>1]\n",
    "for feature in features_with_na:\n",
    "    print(feature,np.round(df[feature].isnull().mean(),4), '% missing values')"
   ]
  },
  {
   "cell_type": "markdown",
   "id": "5171dd97-3f74-47b5-bf47-cb1f1bfc6123",
   "metadata": {},
   "source": [
    "**Yes, from the above information, there are no null values in the dataset.**"
   ]
  },
  {
   "cell_type": "code",
   "execution_count": 7,
   "id": "3b94befc-166c-4de9-afc9-1d6a97ca9ae6",
   "metadata": {},
   "outputs": [
    {
     "data": {
      "text/plain": [
       "False    100\n",
       "Name: count, dtype: int64"
      ]
     },
     "execution_count": 7,
     "metadata": {},
     "output_type": "execute_result"
    }
   ],
   "source": [
    "# let's find out the duplicates in our dataset\n",
    "df.duplicated().value_counts()"
   ]
  },
  {
   "cell_type": "markdown",
   "id": "bd58e650-1b68-450a-be18-a111a18ab061",
   "metadata": {},
   "source": [
    "**There are no duplicates in the dataset.**"
   ]
  },
  {
   "cell_type": "code",
   "execution_count": 8,
   "id": "63398cc7-1eaa-4943-8e7e-5b880ccfb87b",
   "metadata": {},
   "outputs": [
    {
     "name": "stdout",
     "output_type": "stream",
     "text": [
      "Number of numerical features 7\n"
     ]
    },
    {
     "data": {
      "text/html": [
       "<div>\n",
       "<style scoped>\n",
       "    .dataframe tbody tr th:only-of-type {\n",
       "        vertical-align: middle;\n",
       "    }\n",
       "\n",
       "    .dataframe tbody tr th {\n",
       "        vertical-align: top;\n",
       "    }\n",
       "\n",
       "    .dataframe thead th {\n",
       "        text-align: right;\n",
       "    }\n",
       "</style>\n",
       "<table border=\"1\" class=\"dataframe\">\n",
       "  <thead>\n",
       "    <tr style=\"text-align: right;\">\n",
       "      <th></th>\n",
       "      <th>Employee_ID</th>\n",
       "      <th>Age</th>\n",
       "      <th>Salary</th>\n",
       "      <th>Years_at_Company</th>\n",
       "      <th>Performance_Rating</th>\n",
       "      <th>Promotion_in_last_5_years</th>\n",
       "      <th>Turnover</th>\n",
       "    </tr>\n",
       "  </thead>\n",
       "  <tbody>\n",
       "    <tr>\n",
       "      <th>0</th>\n",
       "      <td>1</td>\n",
       "      <td>50</td>\n",
       "      <td>96250</td>\n",
       "      <td>3</td>\n",
       "      <td>3.2</td>\n",
       "      <td>0</td>\n",
       "      <td>0</td>\n",
       "    </tr>\n",
       "    <tr>\n",
       "      <th>1</th>\n",
       "      <td>2</td>\n",
       "      <td>36</td>\n",
       "      <td>112082</td>\n",
       "      <td>1</td>\n",
       "      <td>2.5</td>\n",
       "      <td>1</td>\n",
       "      <td>0</td>\n",
       "    </tr>\n",
       "    <tr>\n",
       "      <th>2</th>\n",
       "      <td>3</td>\n",
       "      <td>29</td>\n",
       "      <td>74754</td>\n",
       "      <td>1</td>\n",
       "      <td>4.8</td>\n",
       "      <td>0</td>\n",
       "      <td>1</td>\n",
       "    </tr>\n",
       "    <tr>\n",
       "      <th>3</th>\n",
       "      <td>4</td>\n",
       "      <td>42</td>\n",
       "      <td>51411</td>\n",
       "      <td>3</td>\n",
       "      <td>3.8</td>\n",
       "      <td>0</td>\n",
       "      <td>0</td>\n",
       "    </tr>\n",
       "    <tr>\n",
       "      <th>4</th>\n",
       "      <td>5</td>\n",
       "      <td>40</td>\n",
       "      <td>42911</td>\n",
       "      <td>18</td>\n",
       "      <td>3.8</td>\n",
       "      <td>1</td>\n",
       "      <td>1</td>\n",
       "    </tr>\n",
       "  </tbody>\n",
       "</table>\n",
       "</div>"
      ],
      "text/plain": [
       "   Employee_ID  Age  Salary  Years_at_Company  Performance_Rating  \\\n",
       "0            1   50   96250                 3                 3.2   \n",
       "1            2   36  112082                 1                 2.5   \n",
       "2            3   29   74754                 1                 4.8   \n",
       "3            4   42   51411                 3                 3.8   \n",
       "4            5   40   42911                18                 3.8   \n",
       "\n",
       "   Promotion_in_last_5_years  Turnover  \n",
       "0                          0         0  \n",
       "1                          1         0  \n",
       "2                          0         1  \n",
       "3                          0         0  \n",
       "4                          1         1  "
      ]
     },
     "execution_count": 8,
     "metadata": {},
     "output_type": "execute_result"
    }
   ],
   "source": [
    "# Let's find out how many numerical features we have\n",
    "features_numeric = [features for features in df.columns if df[features].dtypes != 'O']\n",
    "print(f\"Number of numerical features {len(features_numeric)}\")\n",
    "df[features_numeric].head()"
   ]
  },
  {
   "cell_type": "markdown",
   "id": "f35d96e9-d6cc-4ed4-babd-6384ff857a18",
   "metadata": {},
   "source": [
    "**There are 7 Numerical Features in the dataset.**"
   ]
  },
  {
   "cell_type": "code",
   "execution_count": 9,
   "id": "31018aee-9c34-4819-bb11-0e03ba28ab64",
   "metadata": {},
   "outputs": [
    {
     "name": "stdout",
     "output_type": "stream",
     "text": [
      "Number of categorical features 1\n"
     ]
    },
    {
     "data": {
      "text/html": [
       "<div>\n",
       "<style scoped>\n",
       "    .dataframe tbody tr th:only-of-type {\n",
       "        vertical-align: middle;\n",
       "    }\n",
       "\n",
       "    .dataframe tbody tr th {\n",
       "        vertical-align: top;\n",
       "    }\n",
       "\n",
       "    .dataframe thead th {\n",
       "        text-align: right;\n",
       "    }\n",
       "</style>\n",
       "<table border=\"1\" class=\"dataframe\">\n",
       "  <thead>\n",
       "    <tr style=\"text-align: right;\">\n",
       "      <th></th>\n",
       "      <th>Department</th>\n",
       "    </tr>\n",
       "  </thead>\n",
       "  <tbody>\n",
       "    <tr>\n",
       "      <th>0</th>\n",
       "      <td>HR</td>\n",
       "    </tr>\n",
       "    <tr>\n",
       "      <th>1</th>\n",
       "      <td>IT</td>\n",
       "    </tr>\n",
       "    <tr>\n",
       "      <th>2</th>\n",
       "      <td>Marketing</td>\n",
       "    </tr>\n",
       "    <tr>\n",
       "      <th>3</th>\n",
       "      <td>IT</td>\n",
       "    </tr>\n",
       "    <tr>\n",
       "      <th>4</th>\n",
       "      <td>HR</td>\n",
       "    </tr>\n",
       "  </tbody>\n",
       "</table>\n",
       "</div>"
      ],
      "text/plain": [
       "  Department\n",
       "0         HR\n",
       "1         IT\n",
       "2  Marketing\n",
       "3         IT\n",
       "4         HR"
      ]
     },
     "execution_count": 9,
     "metadata": {},
     "output_type": "execute_result"
    }
   ],
   "source": [
    "# let's find out how many categorical features we have\n",
    "features_categorical = [features for features in df.columns if df[features].dtypes == 'O']\n",
    "print(f\"Number of categorical features {len(features_categorical)}\")\n",
    "df[features_categorical].head()"
   ]
  },
  {
   "cell_type": "markdown",
   "id": "ac9ebe9a-22f7-459e-9a0b-f689e0353ae8",
   "metadata": {},
   "source": [
    "**There is only 1 categorical feature in the dataset**"
   ]
  },
  {
   "cell_type": "code",
   "execution_count": 10,
   "id": "0c7a071b-f3b6-4cb9-ac81-1208efc37c84",
   "metadata": {},
   "outputs": [
    {
     "name": "stdout",
     "output_type": "stream",
     "text": [
      "Employee_ID\n",
      "1      1\n",
      "64     1\n",
      "74     1\n",
      "73     1\n",
      "72     1\n",
      "      ..\n",
      "31     1\n",
      "30     1\n",
      "29     1\n",
      "28     1\n",
      "100    1\n",
      "Name: count, Length: 100, dtype: int64\n",
      "Age\n",
      "45    7\n",
      "29    6\n",
      "56    5\n",
      "36    4\n",
      "42    4\n",
      "23    4\n",
      "28    4\n",
      "30    4\n",
      "46    4\n",
      "35    4\n",
      "54    3\n",
      "39    3\n",
      "47    3\n",
      "32    3\n",
      "44    3\n",
      "57    3\n",
      "49    3\n",
      "25    3\n",
      "50    3\n",
      "43    3\n",
      "48    2\n",
      "22    2\n",
      "55    2\n",
      "38    2\n",
      "33    2\n",
      "58    2\n",
      "24    2\n",
      "37    2\n",
      "52    1\n",
      "41    1\n",
      "51    1\n",
      "40    1\n",
      "31    1\n",
      "27    1\n",
      "26    1\n",
      "59    1\n",
      "Name: count, dtype: int64\n",
      "Salary\n",
      "40301     1\n",
      "86975     1\n",
      "94045     1\n",
      "93351     1\n",
      "91407     1\n",
      "         ..\n",
      "59830     1\n",
      "59738     1\n",
      "58711     1\n",
      "58589     1\n",
      "119909    1\n",
      "Name: count, Length: 100, dtype: int64\n",
      "Years_at_Company\n",
      "1     9\n",
      "5     9\n",
      "16    8\n",
      "8     6\n",
      "15    6\n",
      "12    6\n",
      "2     6\n",
      "10    6\n",
      "3     6\n",
      "7     5\n",
      "13    5\n",
      "14    5\n",
      "19    5\n",
      "4     4\n",
      "17    4\n",
      "18    4\n",
      "9     2\n",
      "11    2\n",
      "6     2\n",
      "Name: count, dtype: int64\n",
      "Performance_Rating\n",
      "4.9    8\n",
      "4.2    7\n",
      "3.9    7\n",
      "3.1    6\n",
      "4.0    6\n",
      "4.7    6\n",
      "4.6    5\n",
      "3.4    5\n",
      "2.6    4\n",
      "4.3    4\n",
      "4.1    4\n",
      "3.8    4\n",
      "3.7    4\n",
      "4.8    4\n",
      "3.2    4\n",
      "3.5    4\n",
      "3.0    3\n",
      "2.8    3\n",
      "2.7    3\n",
      "4.5    3\n",
      "3.6    2\n",
      "2.5    1\n",
      "3.3    1\n",
      "2.9    1\n",
      "5.0    1\n",
      "Name: count, dtype: int64\n",
      "Promotion_in_last_5_years\n",
      "0    73\n",
      "1    27\n",
      "Name: count, dtype: int64\n",
      "Turnover\n",
      "0    82\n",
      "1    18\n",
      "Name: count, dtype: int64\n"
     ]
    }
   ],
   "source": [
    "# Let's explore the count of every value of each feature\n",
    "for feature in features_numeric:\n",
    "    print(df.value_counts(feature))"
   ]
  },
  {
   "cell_type": "markdown",
   "id": "f1a0f355-91ad-4711-b792-e8535d2b10e0",
   "metadata": {},
   "source": [
    "**By looking at the Turnover Values, it looks like our dataset is imbalanced.**"
   ]
  },
  {
   "cell_type": "code",
   "execution_count": 11,
   "id": "5a7ba679-6fb8-4869-9e3a-508712d92cc5",
   "metadata": {},
   "outputs": [
    {
     "name": "stdout",
     "output_type": "stream",
     "text": [
      "Department\n",
      "HR           25\n",
      "Finance      23\n",
      "IT           21\n",
      "Marketing    17\n",
      "Sales        14\n",
      "Name: count, dtype: int64\n"
     ]
    }
   ],
   "source": [
    "# Let's explore the count of values of categorical features\n",
    "for feature in features_categorical:\n",
    "    print(df.value_counts(feature))"
   ]
  },
  {
   "cell_type": "code",
   "execution_count": 12,
   "id": "cb0fd19f-c05c-4560-aae6-f74900b2d7a8",
   "metadata": {},
   "outputs": [
    {
     "name": "stdout",
     "output_type": "stream",
     "text": [
      "count    100.000000\n",
      "mean      50.500000\n",
      "std       29.011492\n",
      "min        1.000000\n",
      "25%       25.750000\n",
      "50%       50.500000\n",
      "75%       75.250000\n",
      "max      100.000000\n",
      "Name: Employee_ID, dtype: float64\n",
      "count    100.000000\n",
      "mean      40.060000\n",
      "std       10.688255\n",
      "min       22.000000\n",
      "25%       30.000000\n",
      "50%       41.500000\n",
      "75%       48.000000\n",
      "max       59.000000\n",
      "Name: Age, dtype: float64\n",
      "count       100.000000\n",
      "mean      77329.530000\n",
      "std       23671.530299\n",
      "min       40301.000000\n",
      "25%       56577.250000\n",
      "50%       79587.000000\n",
      "75%       96310.250000\n",
      "max      119909.000000\n",
      "Name: Salary, dtype: float64\n",
      "count    100.000000\n",
      "mean       9.550000\n",
      "std        5.777656\n",
      "min        1.000000\n",
      "25%        4.750000\n",
      "50%       10.000000\n",
      "75%       15.000000\n",
      "max       19.000000\n",
      "Name: Years_at_Company, dtype: float64\n",
      "count    100.000000\n",
      "mean       3.866000\n",
      "std        0.708708\n",
      "min        2.500000\n",
      "25%        3.275000\n",
      "50%        3.900000\n",
      "75%        4.500000\n",
      "max        5.000000\n",
      "Name: Performance_Rating, dtype: float64\n",
      "count    100.000000\n",
      "mean       0.270000\n",
      "std        0.446196\n",
      "min        0.000000\n",
      "25%        0.000000\n",
      "50%        0.000000\n",
      "75%        1.000000\n",
      "max        1.000000\n",
      "Name: Promotion_in_last_5_years, dtype: float64\n",
      "count    100.000000\n",
      "mean       0.180000\n",
      "std        0.386123\n",
      "min        0.000000\n",
      "25%        0.000000\n",
      "50%        0.000000\n",
      "75%        0.000000\n",
      "max        1.000000\n",
      "Name: Turnover, dtype: float64\n"
     ]
    }
   ],
   "source": [
    "# Let's look at the descriptive statistics of our dataset\n",
    "for feature in features_numeric:\n",
    "    print(df[feature].describe())"
   ]
  },
  {
   "cell_type": "markdown",
   "id": "2b121029-8517-4dc4-9a85-a0605292eb39",
   "metadata": {},
   "source": [
    "**The Data Distribution looks pretty straight forward. Let us go ahead and visually see if there are any outliers.**"
   ]
  },
  {
   "cell_type": "code",
   "execution_count": 13,
   "id": "47dfce17-ad84-4a33-86de-a58fae6413ce",
   "metadata": {},
   "outputs": [
    {
     "data": {
      "image/png": "[encoded data removed]",
      "text/plain": [
       "<Figure size 640x480 with 1 Axes>"
      ]
     },
     "metadata": {},
     "output_type": "display_data"
    },
    {
     "data": {
      "image/png": "[encoded data removed]",
      "text/plain": [
       "<Figure size 640x480 with 1 Axes>"
      ]
     },
     "metadata": {},
     "output_type": "display_data"
    },
    {
     "data": {
      "image/png": "[encoded data removed]",
      "text/plain": [
       "<Figure size 640x480 with 1 Axes>"
      ]
     },
     "metadata": {},
     "output_type": "display_data"
    }
   ],
   "source": [
    "# let us visualize the outliers through box plots\n",
    "import seaborn as sns\n",
    "import matplotlib.pyplot as plt\n",
    "for feature in features_numeric[1:4]:\n",
    "    sns.boxplot(x=df[feature])\n",
    "    plt.title(f'Box Plot of {feature}')\n",
    "    plt.show()"
   ]
  },
  {
   "cell_type": "markdown",
   "id": "bd9d44ab-55d3-4905-8847-d491f0f9dc23",
   "metadata": {},
   "source": [
    "**From the above boxplots, it looks like there are no outliers for numerical features in this dataset.**"
   ]
  },
  {
   "cell_type": "code",
   "execution_count": 14,
   "id": "bbdf3a9e-daaa-4d54-b1a5-a50c5a479c54",
   "metadata": {},
   "outputs": [
    {
     "data": {
      "text/html": [
       "<div>\n",
       "<style scoped>\n",
       "    .dataframe tbody tr th:only-of-type {\n",
       "        vertical-align: middle;\n",
       "    }\n",
       "\n",
       "    .dataframe tbody tr th {\n",
       "        vertical-align: top;\n",
       "    }\n",
       "\n",
       "    .dataframe thead th {\n",
       "        text-align: right;\n",
       "    }\n",
       "</style>\n",
       "<table border=\"1\" class=\"dataframe\">\n",
       "  <thead>\n",
       "    <tr style=\"text-align: right;\">\n",
       "      <th></th>\n",
       "      <th>Employee_ID</th>\n",
       "      <th>Age</th>\n",
       "      <th>Salary</th>\n",
       "      <th>Years_at_Company</th>\n",
       "      <th>Performance_Rating</th>\n",
       "      <th>Promotion_in_last_5_years</th>\n",
       "      <th>Turnover</th>\n",
       "    </tr>\n",
       "  </thead>\n",
       "  <tbody>\n",
       "    <tr>\n",
       "      <th>Employee_ID</th>\n",
       "      <td>1.000000</td>\n",
       "      <td>0.095999</td>\n",
       "      <td>0.064875</td>\n",
       "      <td>0.021965</td>\n",
       "      <td>0.060575</td>\n",
       "      <td>-0.014436</td>\n",
       "      <td>-0.083859</td>\n",
       "    </tr>\n",
       "    <tr>\n",
       "      <th>Age</th>\n",
       "      <td>0.095999</td>\n",
       "      <td>1.000000</td>\n",
       "      <td>0.111579</td>\n",
       "      <td>-0.031618</td>\n",
       "      <td>-0.043467</td>\n",
       "      <td>-0.083916</td>\n",
       "      <td>-0.066280</td>\n",
       "    </tr>\n",
       "    <tr>\n",
       "      <th>Salary</th>\n",
       "      <td>0.064875</td>\n",
       "      <td>0.111579</td>\n",
       "      <td>1.000000</td>\n",
       "      <td>0.066315</td>\n",
       "      <td>0.144474</td>\n",
       "      <td>0.035760</td>\n",
       "      <td>0.029914</td>\n",
       "    </tr>\n",
       "    <tr>\n",
       "      <th>Years_at_Company</th>\n",
       "      <td>0.021965</td>\n",
       "      <td>-0.031618</td>\n",
       "      <td>0.066315</td>\n",
       "      <td>1.000000</td>\n",
       "      <td>0.172853</td>\n",
       "      <td>0.157316</td>\n",
       "      <td>-0.017658</td>\n",
       "    </tr>\n",
       "    <tr>\n",
       "      <th>Performance_Rating</th>\n",
       "      <td>0.060575</td>\n",
       "      <td>-0.043467</td>\n",
       "      <td>0.144474</td>\n",
       "      <td>0.172853</td>\n",
       "      <td>1.000000</td>\n",
       "      <td>0.118763</td>\n",
       "      <td>-0.021704</td>\n",
       "    </tr>\n",
       "    <tr>\n",
       "      <th>Promotion_in_last_5_years</th>\n",
       "      <td>-0.014436</td>\n",
       "      <td>-0.083916</td>\n",
       "      <td>0.035760</td>\n",
       "      <td>0.157316</td>\n",
       "      <td>0.118763</td>\n",
       "      <td>1.000000</td>\n",
       "      <td>0.125466</td>\n",
       "    </tr>\n",
       "    <tr>\n",
       "      <th>Turnover</th>\n",
       "      <td>-0.083859</td>\n",
       "      <td>-0.066280</td>\n",
       "      <td>0.029914</td>\n",
       "      <td>-0.017658</td>\n",
       "      <td>-0.021704</td>\n",
       "      <td>0.125466</td>\n",
       "      <td>1.000000</td>\n",
       "    </tr>\n",
       "  </tbody>\n",
       "</table>\n",
       "</div>"
      ],
      "text/plain": [
       "                           Employee_ID       Age    Salary  Years_at_Company  \\\n",
       "Employee_ID                   1.000000  0.095999  0.064875          0.021965   \n",
       "Age                           0.095999  1.000000  0.111579         -0.031618   \n",
       "Salary                        0.064875  0.111579  1.000000          0.066315   \n",
       "Years_at_Company              0.021965 -0.031618  0.066315          1.000000   \n",
       "Performance_Rating            0.060575 -0.043467  0.144474          0.172853   \n",
       "Promotion_in_last_5_years    -0.014436 -0.083916  0.035760          0.157316   \n",
       "Turnover                     -0.083859 -0.066280  0.029914         -0.017658   \n",
       "\n",
       "                           Performance_Rating  Promotion_in_last_5_years  \\\n",
       "Employee_ID                          0.060575                  -0.014436   \n",
       "Age                                 -0.043467                  -0.083916   \n",
       "Salary                               0.144474                   0.035760   \n",
       "Years_at_Company                     0.172853                   0.157316   \n",
       "Performance_Rating                   1.000000                   0.118763   \n",
       "Promotion_in_last_5_years            0.118763                   1.000000   \n",
       "Turnover                            -0.021704                   0.125466   \n",
       "\n",
       "                           Turnover  \n",
       "Employee_ID               -0.083859  \n",
       "Age                       -0.066280  \n",
       "Salary                     0.029914  \n",
       "Years_at_Company          -0.017658  \n",
       "Performance_Rating        -0.021704  \n",
       "Promotion_in_last_5_years  0.125466  \n",
       "Turnover                   1.000000  "
      ]
     },
     "execution_count": 14,
     "metadata": {},
     "output_type": "execute_result"
    }
   ],
   "source": [
    "# let's explore the correlation between our numerical features\n",
    "df[features_numeric].corr()"
   ]
  },
  {
   "cell_type": "markdown",
   "id": "35798723-0fca-45d0-9c70-f47ccf8cd255",
   "metadata": {},
   "source": [
    "**The above general correlation does not tell us much about features influencing the employee Turnover as our dataset is imbalanced, let us take all the independent variables with target variable and form our hypothesis and testing as it will take care of the imbalanced dataset.**"
   ]
  },
  {
   "cell_type": "markdown",
   "id": "26e0a50c-8af1-4d7b-9eb9-0642ac27fedf",
   "metadata": {},
   "source": [
    "# Formulating Hypothesis\n",
    "\n",
    "## Statistical Significance - p-value < 0.05 , meaning we will reject the null hypothesis only if the p-value is less than 0.05.\n",
    "\n",
    "## Hypothesis 1  \n",
    "\n",
    "**Null Hypothesis** - There is no association between age and employee turnover.\n",
    "**Alternate Hypothesis** - Age influences employee turnover – Older employees are less likely to leave.\n",
    "\n",
    "## Hypothesis 2 \n",
    "**Null Hypothesis** - Higher salary is not associated with lower turnover rates.\n",
    "**Alternate Hypothesis** - Higher salary is associated with lower turnover rates.\n",
    "\n",
    "## Hypothesis 3 \n",
    "**Null Hypothesis** - There is no association between departments and high turnover rates.\n",
    "**Alternate Hypothesis** - Employees in certain departments (eg.sales) have higher turnover rates.\n",
    "\n",
    "## Hypothesis 4 \n",
    "**Null Hypothesis** - Employees with fewer years at the company are not associated with high turnover.\n",
    "**Alternate Hypothesis** - Employees with fewer years at the company are associated with high turnover.\n",
    "\n",
    "## Hypothesis 5 \n",
    "**Null Hypothesis** - There is no association between employees receiving promotions in the last 5 years and turnover.\n",
    "**Alternate Hypothesis** - Employees who received promotions in the last 5 years are less likely to leave.\n",
    "\n",
    "## Hypothesis 6\n",
    "**Null Hypothesis** - Performance ratings are not associated with high turnover\n",
    "**Alternate Hypothesis** - Performance ratings are associated with high turnover. "
   ]
  },
  {
   "cell_type": "markdown",
   "id": "6772503b-07e6-4ea2-a55e-7eabfc92860e",
   "metadata": {},
   "source": [
    "# Task 2 Testing Hypothesis"
   ]
  },
  {
   "cell_type": "code",
   "execution_count": 15,
   "id": "c72ec0e6-fa26-4e06-a38c-6def0c81eaf3",
   "metadata": {},
   "outputs": [],
   "source": [
    "from scipy import stats\n",
    "from sklearn.model_selection import train_test_split\n",
    "from imblearn.over_sampling import SMOTE\n",
    "from sklearn.preprocessing import StandardScaler, LabelEncoder\n",
    "from sklearn.linear_model import LogisticRegression\n",
    "from sklearn.metrics import accuracy_score, classification_report\n",
    "from scipy.stats import fisher_exact, chi2_contingency"
   ]
  },
  {
   "cell_type": "code",
   "execution_count": 16,
   "id": "24667e81-92a7-49a9-ad7a-e712591e7725",
   "metadata": {},
   "outputs": [],
   "source": [
    "# Encode the categorical type department\n",
    "label_encoder = LabelEncoder()\n",
    "df['department_encoded'] = label_encoder.fit_transform(df['Department'])"
   ]
  },
  {
   "cell_type": "code",
   "execution_count": 17,
   "id": "1287f402-ce84-4b62-9fe0-acd3574dc488",
   "metadata": {},
   "outputs": [],
   "source": [
    "# distribute churners and non-churners\n",
    "\n",
    "turnover_yes = df[df['Turnover'] == 1]\n",
    "turnover_no = df[df['Turnover'] == 0]"
   ]
  },
  {
   "cell_type": "code",
   "execution_count": 18,
   "id": "939fb910-44cb-436f-b315-90d59ea68199",
   "metadata": {},
   "outputs": [
    {
     "name": "stdout",
     "output_type": "stream",
     "text": [
      "t-test for Salary (Welch's t-test): t-statistic = 0.30713756652852037, p-value = 0.7611815950353285\n"
     ]
    }
   ],
   "source": [
    "# t-test for between two groups (salary of those who stayed and salary of those who left)\n",
    "\n",
    "t_stat_salary, p_value_salary = stats.ttest_ind(turnover_yes['Salary'], turnover_no['Salary'], equal_var=False)\n",
    "print(f\"t-test for Salary (Welch's t-test): t-statistic = {t_stat_salary}, p-value = {p_value_salary}\")"
   ]
  },
  {
   "cell_type": "code",
   "execution_count": 19,
   "id": "2f9321de-e8bc-44fa-bf07-626ed9ac6487",
   "metadata": {},
   "outputs": [
    {
     "name": "stdout",
     "output_type": "stream",
     "text": [
      "t-test for Age (Welch's t-test): t-statistic = -0.6758000889818147, p-value = 0.5051843954476157\n"
     ]
    }
   ],
   "source": [
    "# t-test for between two groups (age of those who stayed and age of those who left)\n",
    "\n",
    "t_stat_age, p_value_age = stats.ttest_ind(turnover_yes['Age'], turnover_no['Age'], equal_var=False)\n",
    "print(f\"t-test for Age (Welch's t-test): t-statistic = {t_stat_age}, p-value = {p_value_age}\")"
   ]
  },
  {
   "cell_type": "code",
   "execution_count": 20,
   "id": "0bad4111-d376-4a0a-8afb-bb0fe98729d4",
   "metadata": {},
   "outputs": [
    {
     "name": "stdout",
     "output_type": "stream",
     "text": [
      "t-test for Years_at_Company (Welch's t-test): t-statistic = -0.1617919613191064, p-value = 0.8728686742316748\n"
     ]
    }
   ],
   "source": [
    "# t-test for between two groups (tenure of those who stayed and tenure of those who left)\n",
    "\n",
    "t_stat_Years_at_Company, p_value_Years_at_Company = stats.ttest_ind(turnover_yes['Years_at_Company'], turnover_no['Years_at_Company'], equal_var=False)\n",
    "print(f\"t-test for Years_at_Company (Welch's t-test): t-statistic = {t_stat_Years_at_Company}, p-value = {p_value_Years_at_Company}\")"
   ]
  },
  {
   "cell_type": "code",
   "execution_count": 21,
   "id": "738e7aee-1064-41ca-a3de-cdbe5815805e",
   "metadata": {},
   "outputs": [
    {
     "name": "stdout",
     "output_type": "stream",
     "text": [
      "t-test for Performance_Rating (Welch's t-test): t-statistic = -0.20393743299740172, p-value = 0.8401388036490085\n"
     ]
    }
   ],
   "source": [
    "# t-test for between two groups (performance of those who stayed and performance of those who left)\n",
    "\n",
    "t_stat_Performance_Rating, p_value_Performance_Rating = stats.ttest_ind(turnover_yes['Performance_Rating'], turnover_no['Performance_Rating'], equal_var=False)\n",
    "print(f\"t-test for Performance_Rating (Welch's t-test): t-statistic = {t_stat_Performance_Rating}, p-value = {p_value_Performance_Rating}\")"
   ]
  },
  {
   "cell_type": "code",
   "execution_count": 22,
   "id": "54d85042-3313-4a5d-9c25-4f579ce341a3",
   "metadata": {},
   "outputs": [
    {
     "name": "stdout",
     "output_type": "stream",
     "text": [
      "Fisher's exact test for Promotion_in_last_5_years: p-value = 0.2450716924362349\n"
     ]
    }
   ],
   "source": [
    "# fisher exact test for between two groups (promotion and turnover) we do this test provided both the groups are of shape (2,2)\n",
    "\n",
    "contigency_table = pd.crosstab(df['Promotion_in_last_5_years'],df['Turnover'])\n",
    "oddsratio, p_value_fisher = fisher_exact(contigency_table)\n",
    "print(f\"Fisher's exact test for Promotion_in_last_5_years: p-value = {p_value_fisher}\")"
   ]
  },
  {
   "cell_type": "code",
   "execution_count": 23,
   "id": "3db1440c-b7d3-4013-869c-b2d454cd7941",
   "metadata": {},
   "outputs": [
    {
     "name": "stdout",
     "output_type": "stream",
     "text": [
      "Chi Square test for Department: p-value = 0.3362918480088305\n"
     ]
    }
   ],
   "source": [
    "# Chi-Square test between department and turnover\n",
    "\n",
    "contingency_table = pd.crosstab(df['department_encoded'],df['Turnover'])\n",
    "chi2, p_value, dof, expected = chi2_contingency(contigency_table)\n",
    "print(f\"Chi Square test for Department: p-value = {p_value}\")"
   ]
  },
  {
   "cell_type": "markdown",
   "id": "bbddebe2-a49e-428f-a287-03b4e29d7902",
   "metadata": {},
   "source": [
    "**In all the above tests, p-value is not less than 0.05 which tells us that none of the variables analysed show a statistically significant effect on Turnover in this sample. Which means we fail to reject the null hypothesis for all tests.**"
   ]
  },
  {
   "cell_type": "code",
   "execution_count": 24,
   "id": "6c0c8242-f62a-4098-a747-d096d32bc572",
   "metadata": {},
   "outputs": [
    {
     "data": {
      "text/html": [
       "<div>\n",
       "<style scoped>\n",
       "    .dataframe tbody tr th:only-of-type {\n",
       "        vertical-align: middle;\n",
       "    }\n",
       "\n",
       "    .dataframe tbody tr th {\n",
       "        vertical-align: top;\n",
       "    }\n",
       "\n",
       "    .dataframe thead th {\n",
       "        text-align: right;\n",
       "    }\n",
       "</style>\n",
       "<table border=\"1\" class=\"dataframe\">\n",
       "  <thead>\n",
       "    <tr style=\"text-align: right;\">\n",
       "      <th></th>\n",
       "      <th>Employee_ID</th>\n",
       "      <th>Age</th>\n",
       "      <th>Department</th>\n",
       "      <th>Salary</th>\n",
       "      <th>Years_at_Company</th>\n",
       "      <th>Performance_Rating</th>\n",
       "      <th>Promotion_in_last_5_years</th>\n",
       "      <th>Turnover</th>\n",
       "      <th>department_encoded</th>\n",
       "      <th>Tenure_Category</th>\n",
       "      <th>Salary_to_Age_Ratio</th>\n",
       "      <th>Performance_Promotion_Interaction</th>\n",
       "      <th>Department_Turnover_Rate</th>\n",
       "      <th>Recent_Promotion</th>\n",
       "      <th>Relative_Performance</th>\n",
       "      <th>Age_Category</th>\n",
       "      <th>Salary_Percentile</th>\n",
       "    </tr>\n",
       "  </thead>\n",
       "  <tbody>\n",
       "    <tr>\n",
       "      <th>0</th>\n",
       "      <td>1</td>\n",
       "      <td>50</td>\n",
       "      <td>HR</td>\n",
       "      <td>96250</td>\n",
       "      <td>3</td>\n",
       "      <td>3.2</td>\n",
       "      <td>0</td>\n",
       "      <td>0</td>\n",
       "      <td>1</td>\n",
       "      <td>Medium</td>\n",
       "      <td>1925.000000</td>\n",
       "      <td>0.0</td>\n",
       "      <td>0.200000</td>\n",
       "      <td>0</td>\n",
       "      <td>-0.572000</td>\n",
       "      <td>Senior</td>\n",
       "      <td>0.640000</td>\n",
       "    </tr>\n",
       "    <tr>\n",
       "      <th>1</th>\n",
       "      <td>2</td>\n",
       "      <td>36</td>\n",
       "      <td>IT</td>\n",
       "      <td>112082</td>\n",
       "      <td>1</td>\n",
       "      <td>2.5</td>\n",
       "      <td>1</td>\n",
       "      <td>0</td>\n",
       "      <td>2</td>\n",
       "      <td>Short</td>\n",
       "      <td>3113.388889</td>\n",
       "      <td>2.5</td>\n",
       "      <td>0.142857</td>\n",
       "      <td>1</td>\n",
       "      <td>-1.133333</td>\n",
       "      <td>Middle-Aged</td>\n",
       "      <td>0.952381</td>\n",
       "    </tr>\n",
       "    <tr>\n",
       "      <th>2</th>\n",
       "      <td>3</td>\n",
       "      <td>29</td>\n",
       "      <td>Marketing</td>\n",
       "      <td>74754</td>\n",
       "      <td>1</td>\n",
       "      <td>4.8</td>\n",
       "      <td>0</td>\n",
       "      <td>1</td>\n",
       "      <td>3</td>\n",
       "      <td>Short</td>\n",
       "      <td>2577.724138</td>\n",
       "      <td>0.0</td>\n",
       "      <td>0.294118</td>\n",
       "      <td>0</td>\n",
       "      <td>0.800000</td>\n",
       "      <td>Young</td>\n",
       "      <td>0.705882</td>\n",
       "    </tr>\n",
       "    <tr>\n",
       "      <th>3</th>\n",
       "      <td>4</td>\n",
       "      <td>42</td>\n",
       "      <td>IT</td>\n",
       "      <td>51411</td>\n",
       "      <td>3</td>\n",
       "      <td>3.8</td>\n",
       "      <td>0</td>\n",
       "      <td>0</td>\n",
       "      <td>2</td>\n",
       "      <td>Medium</td>\n",
       "      <td>1224.071429</td>\n",
       "      <td>0.0</td>\n",
       "      <td>0.142857</td>\n",
       "      <td>0</td>\n",
       "      <td>0.166667</td>\n",
       "      <td>Middle-Aged</td>\n",
       "      <td>0.190476</td>\n",
       "    </tr>\n",
       "    <tr>\n",
       "      <th>4</th>\n",
       "      <td>5</td>\n",
       "      <td>40</td>\n",
       "      <td>HR</td>\n",
       "      <td>42911</td>\n",
       "      <td>18</td>\n",
       "      <td>3.8</td>\n",
       "      <td>1</td>\n",
       "      <td>1</td>\n",
       "      <td>1</td>\n",
       "      <td>Long</td>\n",
       "      <td>1072.775000</td>\n",
       "      <td>3.8</td>\n",
       "      <td>0.200000</td>\n",
       "      <td>1</td>\n",
       "      <td>0.028000</td>\n",
       "      <td>Middle-Aged</td>\n",
       "      <td>0.080000</td>\n",
       "    </tr>\n",
       "  </tbody>\n",
       "</table>\n",
       "</div>"
      ],
      "text/plain": [
       "   Employee_ID  Age Department  Salary  Years_at_Company  Performance_Rating  \\\n",
       "0            1   50         HR   96250                 3                 3.2   \n",
       "1            2   36         IT  112082                 1                 2.5   \n",
       "2            3   29  Marketing   74754                 1                 4.8   \n",
       "3            4   42         IT   51411                 3                 3.8   \n",
       "4            5   40         HR   42911                18                 3.8   \n",
       "\n",
       "   Promotion_in_last_5_years  Turnover  department_encoded Tenure_Category  \\\n",
       "0                          0         0                   1          Medium   \n",
       "1                          1         0                   2           Short   \n",
       "2                          0         1                   3           Short   \n",
       "3                          0         0                   2          Medium   \n",
       "4                          1         1                   1            Long   \n",
       "\n",
       "   Salary_to_Age_Ratio  Performance_Promotion_Interaction  \\\n",
       "0          1925.000000                                0.0   \n",
       "1          3113.388889                                2.5   \n",
       "2          2577.724138                                0.0   \n",
       "3          1224.071429                                0.0   \n",
       "4          1072.775000                                3.8   \n",
       "\n",
       "   Department_Turnover_Rate  Recent_Promotion  Relative_Performance  \\\n",
       "0                  0.200000                 0             -0.572000   \n",
       "1                  0.142857                 1             -1.133333   \n",
       "2                  0.294118                 0              0.800000   \n",
       "3                  0.142857                 0              0.166667   \n",
       "4                  0.200000                 1              0.028000   \n",
       "\n",
       "  Age_Category  Salary_Percentile  \n",
       "0       Senior           0.640000  \n",
       "1  Middle-Aged           0.952381  \n",
       "2        Young           0.705882  \n",
       "3  Middle-Aged           0.190476  \n",
       "4  Middle-Aged           0.080000  "
      ]
     },
     "execution_count": 24,
     "metadata": {},
     "output_type": "execute_result"
    }
   ],
   "source": [
    "# Add new features to our dataset\n",
    "\n",
    "def tenure_category(years):\n",
    "    if years < 3:\n",
    "        return 'Short'\n",
    "    elif 3 <= years <= 7:\n",
    "        return 'Medium'\n",
    "    else:\n",
    "        return 'Long'\n",
    "\n",
    "def age_category(age):\n",
    "    if age < 30:\n",
    "        return 'Young'\n",
    "    elif 30 <= age <= 45:\n",
    "        return 'Middle-Aged'\n",
    "    else:\n",
    "        return 'Senior'\n",
    "        \n",
    "df['Tenure_Category'] = df['Years_at_Company'].apply(tenure_category)\n",
    "df['Salary_to_Age_Ratio'] = df['Salary'] / df['Age']\n",
    "df['Performance_Promotion_Interaction'] = df['Performance_Rating'] * df['Promotion_in_last_5_years']\n",
    "department_turnover_rate = df.groupby('department_encoded')['Turnover'].mean()\n",
    "df['Department_Turnover_Rate'] = df['department_encoded'].map(department_turnover_rate)\n",
    "df['Recent_Promotion'] = df['Promotion_in_last_5_years'].apply(lambda x: 1 if x == 1 else 0)\n",
    "avg_performance_by_dept = df.groupby('department_encoded')['Performance_Rating'].mean()\n",
    "df['Relative_Performance'] = df['Performance_Rating'] - df['department_encoded'].map(avg_performance_by_dept)\n",
    "df['Age_Category'] = df['Age'].apply(age_category)\n",
    "df['Salary_Percentile'] = df.groupby('department_encoded')['Salary'].rank(pct=True)\n",
    "\n",
    "df.head()\n"
   ]
  },
  {
   "cell_type": "markdown",
   "id": "dd9c9028-98d1-49ee-a4b6-855db732c755",
   "metadata": {},
   "source": [
    "# Relevance of the New Features\n",
    "\n",
    "**Tenure Category** - Employees with different tenures may show different tendencies towards turnover. For example, Employees with shorter tenure might leave more often due to unmet expectations.\n",
    "\n",
    "**Salary to Age Ratio** - This can reflect perceived fairness in compensation, which strongly impacts job satisfaction and turnover. A lower Ratio could mean employee feels undercompensated for their experience. \n",
    "\n",
    "**Performance Promotion Interaction** - Capturing the interaction between good performance and lack of promotion highlights frustration or feelings of being undervalued  among high-performing employees.\n",
    "\n",
    "**Department Turnover Rate** - Employees in departments with historically high turnover may feel less stable and more inclined to leave, contributing to a self-perpetuating turnover cycle.\n",
    "\n",
    "**Recent Promotion** - Receiving a recent promotion is often associated with greater job satisfaction and reduced turnover, so this is a relevant feature.\n",
    "\n",
    "**Relative Performance** - Employees who perform significantly better or worse than their peers may have different attitudes towards staying at the company. Low performers may leave due to dissatisfaction, while high performers might have better external opportunities.\n",
    "\n",
    "**Age Category** - Different age groups tend to have different career priorities, mobility and turnover tendencies, so categorizing employees by age can add valuable predictive power.\n",
    "\n",
    "**Salary Percentile** - Employees earning significantly less than their peers in the same department may feel underappreciated or undervalued increasing their likelihood of leaving. "
   ]
  },
  {
   "cell_type": "code",
   "execution_count": 25,
   "id": "9c4d505e-b1fe-4516-8301-46a6905711bc",
   "metadata": {},
   "outputs": [],
   "source": [
    "# Label encode the categorical new features\n",
    "\n",
    "df['Tenure_Category_encoded'] = label_encoder.fit_transform(df['Tenure_Category'])\n",
    "df['Age_Category_encoded'] = label_encoder.fit_transform(df['Age_Category'])"
   ]
  },
  {
   "cell_type": "code",
   "execution_count": 26,
   "id": "9f3a0583-ae26-4492-923e-d984a68ed9ec",
   "metadata": {},
   "outputs": [],
   "source": [
    "from sklearn.ensemble import RandomForestClassifier\n",
    "from sklearn.model_selection import train_test_split\n",
    "from sklearn.metrics import classification_report, accuracy_score\n",
    "from sklearn.datasets import make_classification\n"
   ]
  },
  {
   "cell_type": "code",
   "execution_count": 27,
   "id": "afb5700f-8d55-4a86-afc1-e3bb2cc41aa1",
   "metadata": {},
   "outputs": [],
   "source": [
    "# Distribute the new dataset into independent and dependent variables\n",
    "\n",
    "X = df[['Age', 'Salary', 'Years_at_Company', 'Performance_Rating', 'Promotion_in_last_5_years', 'department_encoded','Tenure_Category_encoded', 'Age_Category_encoded','Salary_to_Age_Ratio', 'Performance_Promotion_Interaction','Department_Turnover_Rate', 'Recent_Promotion', 'Relative_Performance','Salary_Percentile']]\n",
    "y = df['Turnover']"
   ]
  },
  {
   "cell_type": "code",
   "execution_count": 28,
   "id": "8c442da7-9815-4967-ac25-ef7901f8dfcf",
   "metadata": {},
   "outputs": [],
   "source": [
    "# Split the dataset into train and test\n",
    "\n",
    "X_train, X_test, y_train, y_test = train_test_split(X,y,test_size=0.3, random_state=42)"
   ]
  },
  {
   "cell_type": "code",
   "execution_count": 29,
   "id": "1fe1a73f-eb49-426c-ad0a-1195416a16d8",
   "metadata": {},
   "outputs": [],
   "source": [
    "# Standardize the independent variable\n",
    "\n",
    "scaler = StandardScaler()\n",
    "X_train_scaled = scaler.fit_transform(X_train)\n",
    "X_test_scaled = scaler.transform(X_test)"
   ]
  },
  {
   "cell_type": "code",
   "execution_count": 30,
   "id": "96c18b87-2ccb-48d9-9256-efd62527f368",
   "metadata": {},
   "outputs": [],
   "source": [
    "# Oversample the minority class\n",
    "\n",
    "smote = SMOTE(random_state=42)\n",
    "X_train_smote_scaled, y_train_smote_scaled= smote.fit_resample(X_train_scaled, y_train)"
   ]
  },
  {
   "cell_type": "code",
   "execution_count": 31,
   "id": "40d24bb0-fd5a-4094-85fe-fc0894d8d1f4",
   "metadata": {},
   "outputs": [
    {
     "name": "stdout",
     "output_type": "stream",
     "text": [
      "Accuracy: 0.87\n",
      "Classification Report:\n",
      "               precision    recall  f1-score   support\n",
      "\n",
      "           0       0.87      1.00      0.93        26\n",
      "           1       0.00      0.00      0.00         4\n",
      "\n",
      "    accuracy                           0.87        30\n",
      "   macro avg       0.43      0.50      0.46        30\n",
      "weighted avg       0.75      0.87      0.80        30\n",
      "\n"
     ]
    },
    {
     "name": "stderr",
     "output_type": "stream",
     "text": [
      "C:\\Users\\Vatsal Gosalia\\AppData\\Local\\Programs\\Python\\Python312\\Lib\\site-packages\\sklearn\\base.py:486: UserWarning: X has feature names, but RandomForestClassifier was fitted without feature names\n",
      "  warnings.warn(\n",
      "C:\\Users\\Vatsal Gosalia\\AppData\\Local\\Programs\\Python\\Python312\\Lib\\site-packages\\sklearn\\metrics\\_classification.py:1517: UndefinedMetricWarning: Precision is ill-defined and being set to 0.0 in labels with no predicted samples. Use `zero_division` parameter to control this behavior.\n",
      "  _warn_prf(average, modifier, f\"{metric.capitalize()} is\", len(result))\n",
      "C:\\Users\\Vatsal Gosalia\\AppData\\Local\\Programs\\Python\\Python312\\Lib\\site-packages\\sklearn\\metrics\\_classification.py:1517: UndefinedMetricWarning: Precision is ill-defined and being set to 0.0 in labels with no predicted samples. Use `zero_division` parameter to control this behavior.\n",
      "  _warn_prf(average, modifier, f\"{metric.capitalize()} is\", len(result))\n",
      "C:\\Users\\Vatsal Gosalia\\AppData\\Local\\Programs\\Python\\Python312\\Lib\\site-packages\\sklearn\\metrics\\_classification.py:1517: UndefinedMetricWarning: Precision is ill-defined and being set to 0.0 in labels with no predicted samples. Use `zero_division` parameter to control this behavior.\n",
      "  _warn_prf(average, modifier, f\"{metric.capitalize()} is\", len(result))\n"
     ]
    }
   ],
   "source": [
    "# Build the Random Forest Model with personalized weights to handle the class imbalance\n",
    "\n",
    "weights = {0:1, 1:5}\n",
    "model = RandomForestClassifier(class_weight=weights, random_state=42)\n",
    "model.fit(X_train_smote_scaled, y_train_smote_scaled)\n",
    "\n",
    "y_pred = model.predict(X_test)\n",
    "\n",
    "accuracy = accuracy_score(y_test,y_pred)\n",
    "print(f\"Accuracy: {accuracy:.2f}\")\n",
    "\n",
    "print(\"Classification Report:\\n\", classification_report(y_test, y_pred))"
   ]
  },
  {
   "cell_type": "markdown",
   "id": "8df276b8-f84b-489b-bd8d-a4c874c437b6",
   "metadata": {},
   "source": [
    "**Accuracy**: The overall accuracy of the model is 0.87, meaning 87% of the predictions (both churn and non-churn) were correct\n",
    "\n",
    "**Classification Report**: \n",
    "\n",
    "**For class 0 (Non Churners)**: \n",
    "**Precision: 0.87** - This means that when the model predicted an employee will not churn, it was correct 87% of the time\n",
    "**Recall: 1.00** - Out of all actual non-churners, the model correctly identified 100% of them\n",
    "**F1 score: 0.93** - The F1-score, which is harmonic mean of precision and recall, indicates strong overall performance for predicting non-churners\n",
    "\n",
    "**For class 1 (Churners)**:\n",
    "**Precision: 0.00** - The precision for churners is 0 because the model did not any employees to churn (no true positives)\n",
    "**Recall: 0.00** - The recall is also 0 because the model failed to identify any of the actual churners.\n",
    "**F1 score: 0.00** - Since both precision and recall are 0, F1-score is also 0, meaning the model performed very poorly for this class."
   ]
  },
  {
   "cell_type": "code",
   "execution_count": 32,
   "id": "d5093abf-6229-452d-94a4-bae008795f89",
   "metadata": {},
   "outputs": [
    {
     "name": "stdout",
     "output_type": "stream",
     "text": [
      "Feature: Relative_Performance, Importance: 0.1290\n",
      "Feature: Department_Turnover_Rate, Importance: 0.1275\n",
      "Feature: Salary, Importance: 0.1160\n",
      "Feature: Years_at_Company, Importance: 0.0978\n",
      "Feature: Age, Importance: 0.0959\n",
      "Feature: Salary_to_Age_Ratio, Importance: 0.0854\n",
      "Feature: Salary_Percentile, Importance: 0.0842\n",
      "Feature: department_encoded, Importance: 0.0766\n",
      "Feature: Performance_Rating, Importance: 0.0608\n",
      "Feature: Age_Category_encoded, Importance: 0.0512\n",
      "Feature: Tenure_Category_encoded, Importance: 0.0332\n",
      "Feature: Performance_Promotion_Interaction, Importance: 0.0224\n",
      "Feature: Recent_Promotion, Importance: 0.0138\n",
      "Feature: Promotion_in_last_5_years, Importance: 0.0064\n"
     ]
    }
   ],
   "source": [
    "# Explore which features are more responsible for predicting turnover\n",
    "\n",
    "feature_importance = model.feature_importances_\n",
    "feature_names = X.columns\n",
    "feature_importance_list = list(zip(feature_names,feature_importance))\n",
    "sorted_feature_importance = sorted(feature_importance_list,key=lambda x: x[1], reverse=True)\n",
    "for feature, importance in sorted_feature_importance:\n",
    "    print(f\"Feature: {feature}, Importance: {importance:.4f}\")\n"
   ]
  },
  {
   "cell_type": "markdown",
   "id": "1c522cae-f39a-4778-84ad-f1c7d2b3785c",
   "metadata": {},
   "source": [
    "# Model Interpretation\n",
    "\n",
    "**Top Influencers**: The most important features such as Relative Performance, Department Turnover Rate and Salary suggest that an employee's performance, the environment within their department and their compensation are the biggest drivers of whether they stay or leave. \n",
    "\n",
    "**Actions to take**: Focus on departments with higher turnover rates and provide additional resources, such as training, team-building activities, or better management practices. Also, ensure competitive salary packages aligned with performance to retain high-performing employees.\n",
    "\n",
    "**Salary-Related Features**: Several salary-related features (eg. Salar, salary to age ratio, Salary percentile) are significant, implying that financial factors are critical in predicting churn. \n",
    "\n",
    "**Actions to take**: Conduct regular salary benchmarking and adjust compensation to match or exceed industry standards. Ensure salary progression is transparent and equitable across employees with similar tenure and performance. Offering competitive raises or bonuses can help mitigate churn.\n",
    "\n",
    "**Department and Tenure**: The Department Turnover rate and how long an employee has been with the company are also major factors. Departments with high churn rates or employees with shorter tenure may be more vulnerable to turnover. \n",
    "\n",
    "**Actions to take**: i.\tActions to take: Focus on supporting new employees or employees in departments with high turnover rates. Implement targeted onboarding programs, mentoring, and regular check-ins to improve retention rates early in an employee’s career. For departments with high churn, perform internal surveys or assessments to identify underlying causes and address them.\n",
    "\n",
    "**Promotion and Performance**: While performance and recent promotions matter, they play a slightly smaller role than expected. \n",
    "\n",
    "**Actions to take**: Ensure that promotion and performance recognition processes are transparent and fair, even if they are not as critical as salary in influencing churn. Regularly provide opportunities for career progression and ensure employees feel recognized and rewarded for their performance, even if not promoted immediately."
   ]
  },
  {
   "cell_type": "markdown",
   "id": "26e27c7e-9084-4e5c-a383-efafd658bd17",
   "metadata": {},
   "source": [
    "Now let us focus on improving the important features with the highest importance for better model performance or better insights. For example we can combine Salary and Years at Company or we can reduce the number of features by eliminating less important feature to get better results. "
   ]
  },
  {
   "cell_type": "code",
   "execution_count": 33,
   "id": "9d51c8db-f8ea-45a6-ac86-c7c90247d81d",
   "metadata": {},
   "outputs": [],
   "source": [
    "# Add new feature to see if people with longer tenures have higher salaries or not\n",
    "\n",
    "df['Salary_to_tenure_ratio'] = df['Salary'] / df['Years_at_Company'] "
   ]
  },
  {
   "cell_type": "code",
   "execution_count": 34,
   "id": "8fe4be79-35f5-4b8f-9622-e7d76624f500",
   "metadata": {},
   "outputs": [
    {
     "data": {
      "text/html": [
       "<div>\n",
       "<style scoped>\n",
       "    .dataframe tbody tr th:only-of-type {\n",
       "        vertical-align: middle;\n",
       "    }\n",
       "\n",
       "    .dataframe tbody tr th {\n",
       "        vertical-align: top;\n",
       "    }\n",
       "\n",
       "    .dataframe thead th {\n",
       "        text-align: right;\n",
       "    }\n",
       "</style>\n",
       "<table border=\"1\" class=\"dataframe\">\n",
       "  <thead>\n",
       "    <tr style=\"text-align: right;\">\n",
       "      <th></th>\n",
       "      <th>Employee_ID</th>\n",
       "      <th>Age</th>\n",
       "      <th>Department</th>\n",
       "      <th>Salary</th>\n",
       "      <th>Years_at_Company</th>\n",
       "      <th>Performance_Rating</th>\n",
       "      <th>Promotion_in_last_5_years</th>\n",
       "      <th>Turnover</th>\n",
       "      <th>department_encoded</th>\n",
       "      <th>Tenure_Category</th>\n",
       "      <th>Salary_to_Age_Ratio</th>\n",
       "      <th>Performance_Promotion_Interaction</th>\n",
       "      <th>Department_Turnover_Rate</th>\n",
       "      <th>Recent_Promotion</th>\n",
       "      <th>Relative_Performance</th>\n",
       "      <th>Age_Category</th>\n",
       "      <th>Salary_Percentile</th>\n",
       "      <th>Tenure_Category_encoded</th>\n",
       "      <th>Age_Category_encoded</th>\n",
       "      <th>Salary_to_tenure_ratio</th>\n",
       "    </tr>\n",
       "  </thead>\n",
       "  <tbody>\n",
       "    <tr>\n",
       "      <th>0</th>\n",
       "      <td>1</td>\n",
       "      <td>50</td>\n",
       "      <td>HR</td>\n",
       "      <td>96250</td>\n",
       "      <td>3</td>\n",
       "      <td>3.2</td>\n",
       "      <td>0</td>\n",
       "      <td>0</td>\n",
       "      <td>1</td>\n",
       "      <td>Medium</td>\n",
       "      <td>1925.000000</td>\n",
       "      <td>0.0</td>\n",
       "      <td>0.200000</td>\n",
       "      <td>0</td>\n",
       "      <td>-0.572000</td>\n",
       "      <td>Senior</td>\n",
       "      <td>0.640000</td>\n",
       "      <td>1</td>\n",
       "      <td>1</td>\n",
       "      <td>32083.333333</td>\n",
       "    </tr>\n",
       "    <tr>\n",
       "      <th>1</th>\n",
       "      <td>2</td>\n",
       "      <td>36</td>\n",
       "      <td>IT</td>\n",
       "      <td>112082</td>\n",
       "      <td>1</td>\n",
       "      <td>2.5</td>\n",
       "      <td>1</td>\n",
       "      <td>0</td>\n",
       "      <td>2</td>\n",
       "      <td>Short</td>\n",
       "      <td>3113.388889</td>\n",
       "      <td>2.5</td>\n",
       "      <td>0.142857</td>\n",
       "      <td>1</td>\n",
       "      <td>-1.133333</td>\n",
       "      <td>Middle-Aged</td>\n",
       "      <td>0.952381</td>\n",
       "      <td>2</td>\n",
       "      <td>0</td>\n",
       "      <td>112082.000000</td>\n",
       "    </tr>\n",
       "    <tr>\n",
       "      <th>2</th>\n",
       "      <td>3</td>\n",
       "      <td>29</td>\n",
       "      <td>Marketing</td>\n",
       "      <td>74754</td>\n",
       "      <td>1</td>\n",
       "      <td>4.8</td>\n",
       "      <td>0</td>\n",
       "      <td>1</td>\n",
       "      <td>3</td>\n",
       "      <td>Short</td>\n",
       "      <td>2577.724138</td>\n",
       "      <td>0.0</td>\n",
       "      <td>0.294118</td>\n",
       "      <td>0</td>\n",
       "      <td>0.800000</td>\n",
       "      <td>Young</td>\n",
       "      <td>0.705882</td>\n",
       "      <td>2</td>\n",
       "      <td>2</td>\n",
       "      <td>74754.000000</td>\n",
       "    </tr>\n",
       "    <tr>\n",
       "      <th>3</th>\n",
       "      <td>4</td>\n",
       "      <td>42</td>\n",
       "      <td>IT</td>\n",
       "      <td>51411</td>\n",
       "      <td>3</td>\n",
       "      <td>3.8</td>\n",
       "      <td>0</td>\n",
       "      <td>0</td>\n",
       "      <td>2</td>\n",
       "      <td>Medium</td>\n",
       "      <td>1224.071429</td>\n",
       "      <td>0.0</td>\n",
       "      <td>0.142857</td>\n",
       "      <td>0</td>\n",
       "      <td>0.166667</td>\n",
       "      <td>Middle-Aged</td>\n",
       "      <td>0.190476</td>\n",
       "      <td>1</td>\n",
       "      <td>0</td>\n",
       "      <td>17137.000000</td>\n",
       "    </tr>\n",
       "    <tr>\n",
       "      <th>4</th>\n",
       "      <td>5</td>\n",
       "      <td>40</td>\n",
       "      <td>HR</td>\n",
       "      <td>42911</td>\n",
       "      <td>18</td>\n",
       "      <td>3.8</td>\n",
       "      <td>1</td>\n",
       "      <td>1</td>\n",
       "      <td>1</td>\n",
       "      <td>Long</td>\n",
       "      <td>1072.775000</td>\n",
       "      <td>3.8</td>\n",
       "      <td>0.200000</td>\n",
       "      <td>1</td>\n",
       "      <td>0.028000</td>\n",
       "      <td>Middle-Aged</td>\n",
       "      <td>0.080000</td>\n",
       "      <td>0</td>\n",
       "      <td>0</td>\n",
       "      <td>2383.944444</td>\n",
       "    </tr>\n",
       "  </tbody>\n",
       "</table>\n",
       "</div>"
      ],
      "text/plain": [
       "   Employee_ID  Age Department  Salary  Years_at_Company  Performance_Rating  \\\n",
       "0            1   50         HR   96250                 3                 3.2   \n",
       "1            2   36         IT  112082                 1                 2.5   \n",
       "2            3   29  Marketing   74754                 1                 4.8   \n",
       "3            4   42         IT   51411                 3                 3.8   \n",
       "4            5   40         HR   42911                18                 3.8   \n",
       "\n",
       "   Promotion_in_last_5_years  Turnover  department_encoded Tenure_Category  \\\n",
       "0                          0         0                   1          Medium   \n",
       "1                          1         0                   2           Short   \n",
       "2                          0         1                   3           Short   \n",
       "3                          0         0                   2          Medium   \n",
       "4                          1         1                   1            Long   \n",
       "\n",
       "   Salary_to_Age_Ratio  Performance_Promotion_Interaction  \\\n",
       "0          1925.000000                                0.0   \n",
       "1          3113.388889                                2.5   \n",
       "2          2577.724138                                0.0   \n",
       "3          1224.071429                                0.0   \n",
       "4          1072.775000                                3.8   \n",
       "\n",
       "   Department_Turnover_Rate  Recent_Promotion  Relative_Performance  \\\n",
       "0                  0.200000                 0             -0.572000   \n",
       "1                  0.142857                 1             -1.133333   \n",
       "2                  0.294118                 0              0.800000   \n",
       "3                  0.142857                 0              0.166667   \n",
       "4                  0.200000                 1              0.028000   \n",
       "\n",
       "  Age_Category  Salary_Percentile  Tenure_Category_encoded  \\\n",
       "0       Senior           0.640000                        1   \n",
       "1  Middle-Aged           0.952381                        2   \n",
       "2        Young           0.705882                        2   \n",
       "3  Middle-Aged           0.190476                        1   \n",
       "4  Middle-Aged           0.080000                        0   \n",
       "\n",
       "   Age_Category_encoded  Salary_to_tenure_ratio  \n",
       "0                     1            32083.333333  \n",
       "1                     0           112082.000000  \n",
       "2                     2            74754.000000  \n",
       "3                     0            17137.000000  \n",
       "4                     0             2383.944444  "
      ]
     },
     "execution_count": 34,
     "metadata": {},
     "output_type": "execute_result"
    }
   ],
   "source": [
    "df.head()"
   ]
  },
  {
   "cell_type": "code",
   "execution_count": null,
   "id": "d69b3fef-e3c7-4667-b77c-6d0506829cf9",
   "metadata": {},
   "outputs": [],
   "source": []
  },
  {
   "cell_type": "code",
   "execution_count": 35,
   "id": "823df24e-2a64-4cb2-b27b-162913781d17",
   "metadata": {},
   "outputs": [],
   "source": [
    "# Add threshold to filter the most important features\n",
    "\n",
    "threshold = 0.07\n",
    "\n",
    "important_features = [feature for feature, importance in sorted_feature_importance if importance > threshold] \n",
    "\n",
    "X_train_reduced = X_train[important_features]\n",
    "X_test_reduced = X_test[important_features]"
   ]
  },
  {
   "cell_type": "code",
   "execution_count": 36,
   "id": "3c269a87-8701-4051-a809-b8de86373659",
   "metadata": {},
   "outputs": [],
   "source": [
    "# scale the reduced independent train and test set\n",
    "\n",
    "X_train_scaled_reduced = scaler.fit_transform(X_train_reduced)\n",
    "X_test_scaled_reduced = scaler.transform(X_test_reduced)"
   ]
  },
  {
   "cell_type": "code",
   "execution_count": 37,
   "id": "ad7c2e63-40d3-466e-81cf-75256819fbb9",
   "metadata": {},
   "outputs": [],
   "source": [
    "#Oversampling the minority class\n",
    "\n",
    "smote = SMOTE(random_state=42)\n",
    "X_train_smote_scaled_reduced, y_train_smote_scaled_reduced = smote.fit_resample(X_train_scaled_reduced, y_train)"
   ]
  },
  {
   "cell_type": "code",
   "execution_count": 38,
   "id": "ab1d185e-5ef2-4502-8f1e-d91ad5ba5c02",
   "metadata": {},
   "outputs": [
    {
     "name": "stdout",
     "output_type": "stream",
     "text": [
      "              precision    recall  f1-score   support\n",
      "\n",
      "           0       0.88      0.81      0.84        26\n",
      "           1       0.17      0.25      0.20         4\n",
      "\n",
      "    accuracy                           0.73        30\n",
      "   macro avg       0.52      0.53      0.52        30\n",
      "weighted avg       0.78      0.73      0.75        30\n",
      "\n"
     ]
    }
   ],
   "source": [
    "# rebuilding the model after feature reduction\n",
    "\n",
    "model_reduced = RandomForestClassifier(random_state=42)\n",
    "model_reduced.fit(X_train_smote_scaled_reduced, y_train_smote_scaled_reduced)\n",
    "\n",
    "y_pred_reduced = model_reduced.predict(X_test_scaled_reduced)\n",
    "print(classification_report(y_test, y_pred_reduced))"
   ]
  },
  {
   "cell_type": "code",
   "execution_count": 39,
   "id": "6381f5e0-6723-4d97-a59e-346b53c1dbeb",
   "metadata": {},
   "outputs": [
    {
     "name": "stdout",
     "output_type": "stream",
     "text": [
      "Fitting 5 folds for each of 243 candidates, totalling 1215 fits\n"
     ]
    },
    {
     "name": "stderr",
     "output_type": "stream",
     "text": [
      "C:\\Users\\Vatsal Gosalia\\AppData\\Local\\Programs\\Python\\Python312\\Lib\\site-packages\\sklearn\\model_selection\\_validation.py:540: FitFailedWarning: \n",
      "405 fits failed out of a total of 1215.\n",
      "The score on these train-test partitions for these parameters will be set to nan.\n",
      "If these failures are not expected, you can try to debug them by setting error_score='raise'.\n",
      "\n",
      "Below are more details about the failures:\n",
      "--------------------------------------------------------------------------------\n",
      "284 fits failed with the following error:\n",
      "Traceback (most recent call last):\n",
      "  File \"C:\\Users\\Vatsal Gosalia\\AppData\\Local\\Programs\\Python\\Python312\\Lib\\site-packages\\sklearn\\model_selection\\_validation.py\", line 888, in _fit_and_score\n",
      "    estimator.fit(X_train, y_train, **fit_params)\n",
      "  File \"C:\\Users\\Vatsal Gosalia\\AppData\\Local\\Programs\\Python\\Python312\\Lib\\site-packages\\sklearn\\base.py\", line 1466, in wrapper\n",
      "    estimator._validate_params()\n",
      "  File \"C:\\Users\\Vatsal Gosalia\\AppData\\Local\\Programs\\Python\\Python312\\Lib\\site-packages\\sklearn\\base.py\", line 666, in _validate_params\n",
      "    validate_parameter_constraints(\n",
      "  File \"C:\\Users\\Vatsal Gosalia\\AppData\\Local\\Programs\\Python\\Python312\\Lib\\site-packages\\sklearn\\utils\\_param_validation.py\", line 95, in validate_parameter_constraints\n",
      "    raise InvalidParameterError(\n",
      "sklearn.utils._param_validation.InvalidParameterError: The 'max_features' parameter of RandomForestClassifier must be an int in the range [1, inf), a float in the range (0.0, 1.0], a str among {'log2', 'sqrt'} or None. Got 'auto' instead.\n",
      "\n",
      "--------------------------------------------------------------------------------\n",
      "121 fits failed with the following error:\n",
      "Traceback (most recent call last):\n",
      "  File \"C:\\Users\\Vatsal Gosalia\\AppData\\Local\\Programs\\Python\\Python312\\Lib\\site-packages\\sklearn\\model_selection\\_validation.py\", line 888, in _fit_and_score\n",
      "    estimator.fit(X_train, y_train, **fit_params)\n",
      "  File \"C:\\Users\\Vatsal Gosalia\\AppData\\Local\\Programs\\Python\\Python312\\Lib\\site-packages\\sklearn\\base.py\", line 1466, in wrapper\n",
      "    estimator._validate_params()\n",
      "  File \"C:\\Users\\Vatsal Gosalia\\AppData\\Local\\Programs\\Python\\Python312\\Lib\\site-packages\\sklearn\\base.py\", line 666, in _validate_params\n",
      "    validate_parameter_constraints(\n",
      "  File \"C:\\Users\\Vatsal Gosalia\\AppData\\Local\\Programs\\Python\\Python312\\Lib\\site-packages\\sklearn\\utils\\_param_validation.py\", line 95, in validate_parameter_constraints\n",
      "    raise InvalidParameterError(\n",
      "sklearn.utils._param_validation.InvalidParameterError: The 'max_features' parameter of RandomForestClassifier must be an int in the range [1, inf), a float in the range (0.0, 1.0], a str among {'sqrt', 'log2'} or None. Got 'auto' instead.\n",
      "\n",
      "  warnings.warn(some_fits_failed_message, FitFailedWarning)\n",
      "C:\\Users\\Vatsal Gosalia\\AppData\\Local\\Programs\\Python\\Python312\\Lib\\site-packages\\sklearn\\model_selection\\_search.py:1052: UserWarning: One or more of the test scores are non-finite: [       nan        nan        nan        nan        nan        nan\n",
      "        nan        nan        nan        nan        nan        nan\n",
      "        nan        nan        nan        nan        nan        nan\n",
      "        nan        nan        nan        nan        nan        nan\n",
      "        nan        nan        nan 0.81304348 0.83992095 0.85810277\n",
      " 0.77826087 0.81422925 0.80513834 0.75098814 0.7687747  0.77786561\n",
      " 0.77786561 0.79644269 0.79644269 0.78735178 0.77826087 0.79644269\n",
      " 0.7513834  0.76007905 0.77826087 0.76047431 0.74229249 0.76047431\n",
      " 0.76047431 0.74229249 0.76047431 0.73359684 0.75968379 0.76007905\n",
      " 0.81343874 0.81383399 0.81383399 0.79604743 0.79604743 0.78774704\n",
      " 0.77826087 0.77826087 0.76047431 0.77865613 0.76956522 0.77865613\n",
      " 0.77865613 0.78735178 0.76047431 0.7513834  0.74229249 0.76047431\n",
      " 0.7513834  0.7687747  0.75098814 0.7513834  0.7687747  0.75098814\n",
      " 0.73320158 0.75098814 0.74229249        nan        nan        nan\n",
      "        nan        nan        nan        nan        nan        nan\n",
      "        nan        nan        nan        nan        nan        nan\n",
      "        nan        nan        nan        nan        nan        nan\n",
      "        nan        nan        nan        nan        nan        nan\n",
      " 0.80395257 0.8312253  0.85810277 0.77826087 0.81422925 0.81422925\n",
      " 0.75098814 0.7687747  0.77786561 0.77786561 0.79644269 0.79644269\n",
      " 0.78735178 0.77826087 0.79644269 0.7513834  0.76007905 0.77826087\n",
      " 0.76047431 0.74229249 0.76047431 0.76047431 0.74229249 0.76047431\n",
      " 0.73359684 0.75968379 0.76007905 0.81343874 0.81383399 0.81383399\n",
      " 0.79604743 0.79604743 0.79644269 0.77826087 0.77826087 0.76047431\n",
      " 0.77865613 0.76956522 0.77865613 0.77865613 0.78735178 0.76047431\n",
      " 0.7513834  0.74229249 0.76047431 0.7513834  0.7687747  0.75098814\n",
      " 0.7513834  0.7687747  0.75098814 0.73320158 0.75098814 0.74229249\n",
      "        nan        nan        nan        nan        nan        nan\n",
      "        nan        nan        nan        nan        nan        nan\n",
      "        nan        nan        nan        nan        nan        nan\n",
      "        nan        nan        nan        nan        nan        nan\n",
      "        nan        nan        nan 0.80395257 0.8312253  0.85810277\n",
      " 0.77826087 0.81422925 0.81422925 0.75098814 0.7687747  0.77786561\n",
      " 0.77786561 0.79644269 0.79644269 0.78735178 0.77826087 0.79644269\n",
      " 0.7513834  0.76007905 0.77826087 0.76047431 0.74229249 0.76047431\n",
      " 0.76047431 0.74229249 0.76047431 0.73359684 0.75968379 0.76007905\n",
      " 0.81343874 0.81383399 0.81383399 0.79604743 0.79604743 0.79644269\n",
      " 0.77826087 0.77826087 0.76047431 0.77865613 0.76956522 0.77865613\n",
      " 0.77865613 0.78735178 0.76047431 0.7513834  0.74229249 0.76047431\n",
      " 0.7513834  0.7687747  0.75098814 0.7513834  0.7687747  0.75098814\n",
      " 0.73320158 0.75098814 0.74229249]\n",
      "  warnings.warn(\n"
     ]
    },
    {
     "name": "stdout",
     "output_type": "stream",
     "text": [
      "Best Parameters: {'class_weight': 'balanced', 'max_depth': 10, 'max_features': 'sqrt', 'min_samples_leaf': 1, 'min_samples_split': 2, 'n_estimators': 300}\n",
      "Best Score: 0.8581027667984189\n"
     ]
    }
   ],
   "source": [
    "# Model optimization by applying grid search\n",
    "\n",
    "from sklearn.model_selection import GridSearchCV, StratifiedKFold\n",
    "\n",
    "param_grid = {\n",
    "    'n_estimators': [100,200,300],\n",
    "    'max_depth': [10,20,30],\n",
    "    'min_samples_split': [2,5,10],\n",
    "    'min_samples_leaf': [1,2,4],\n",
    "    'max_features': ['auto', 'sqrt', 'log2'],\n",
    "    'class_weight': ['balanced']\n",
    "}\n",
    "\n",
    "stratified_kfold = StratifiedKFold(n_splits=5)\n",
    "grid_search = GridSearchCV(estimator=RandomForestClassifier(random_state=42), param_grid=param_grid, cv=stratified_kfold,n_jobs=-1, verbose=2)\n",
    "\n",
    "grid_search.fit(X_train_smote_scaled_reduced,y_train_smote_scaled_reduced)\n",
    "\n",
    "print(f\"Best Parameters: {grid_search.best_params_}\")\n",
    "print(f\"Best Score: {grid_search.best_score_}\")"
   ]
  },
  {
   "cell_type": "code",
   "execution_count": 40,
   "id": "ab38f4b1-49c9-4187-bb11-edea879ca976",
   "metadata": {},
   "outputs": [
    {
     "name": "stdout",
     "output_type": "stream",
     "text": [
      "              precision    recall  f1-score   support\n",
      "\n",
      "           0       0.92      0.42      0.58        26\n",
      "           1       0.17      0.75      0.27         4\n",
      "\n",
      "    accuracy                           0.47        30\n",
      "   macro avg       0.54      0.59      0.43        30\n",
      "weighted avg       0.82      0.47      0.54        30\n",
      "\n"
     ]
    }
   ],
   "source": [
    "# predicting by using the best estimator\n",
    "\n",
    "y_prob = grid_search.best_estimator_.predict_proba(X_test_scaled_reduced)\n",
    "\n",
    "threshold = 0.27\n",
    "y_pred_adjusted = (y_prob[:, 1] >= threshold).astype(int)\n",
    "print(classification_report(y_test, y_pred_adjusted))"
   ]
  },
  {
   "cell_type": "markdown",
   "id": "0cf39e27-4c1d-4fd3-8c2b-65bd493a257b",
   "metadata": {},
   "source": [
    "# Key observations\n",
    "\n",
    "## Class 1 (Churners performance):\n",
    "\n",
    "**Before Feature reduction and Optimization**:\n",
    "Precision was 0.00, recall was 0.00 and F-1 score was 0.00 meaning the model failed to predict and identify any churners.\n",
    "\n",
    "**After Feature Reduction and Optimization**:\n",
    "Precision improved to 0.17 meaning it correctly predicted 17% of churners. Recall improved significantly to 0.75, meaning the model is now identifying 75% of churners. The F-1 score improved from 0.00 to 0.27 reflecting significant improvement in predicting churners.\n",
    "\n",
    "## Class 0 (Non Churners Performance):\n",
    "\n",
    "**Before Feature reduction and Optimization**:\n",
    "Precision was 0.87, recall was 1.00, and F1-score was 0.93—the model performed very well for non-churners.\n",
    "\n",
    "**After Feature Reduction and Optimization**:\n",
    "Precision improved to 0.92, but recall dropped significantly to 0.42, indicating the model is now more focused on identifying churners, but it is missing more non-churners. F1-Score for non-churners decreased from 0.93 to 0.58 due to the trade-off of improving churner identification\n",
    "\n",
    "\n",
    "## Overall Model Performance\n",
    "\n",
    "**Before Feature reduction and Optimization**:\n",
    "The model had an accuracy of 0.87, but it was biased towards predicting non-churners.The macro and weighted average F1-scores were 0.46 and 0.80, respectively, indicating that the model was performing well overall but completely missed churners.\n",
    "\n",
    "\n",
    "**After Feature Reduction and Optimization**:\n",
    "The accuracy dropped to 0.47, reflecting the trade-off for increasing recall for churners. The macro average recall improved from 0.50 to 0.59, showing better balance between classes. The weighted F1-score decreased from 0.80 to 0.54, indicating that the overall performance dropped slightly, but the model is now better at predicting churners. \n",
    "\n",
    "\n",
    "## Conclusion:\n",
    "\n",
    "**Before Feature reduction and Optimization**: The model had high accuracy and strong performance on non-churners but completely missed churners.\n",
    "\n",
    "**After Feature Reduction and Optimization**:\n",
    "The model improved significantly in predicting churners, with a recall of 0.75 for churners. However, this improvement came at the cost of lower performance on non-churners and a drop in overall accuracy.\n"
   ]
  },
  {
   "cell_type": "code",
   "execution_count": null,
   "id": "2ba2f276-d7d7-490f-a886-6d0987a4a0c8",
   "metadata": {},
   "outputs": [],
   "source": []
  }
 ],
 "metadata": {
  "kernelspec": {
   "display_name": "Python 3 (ipykernel)",
   "language": "python",
   "name": "python3"
  },
  "language_info": {
   "codemirror_mode": {
    "name": "ipython",
    "version": 3
   },
   "file_extension": ".py",
   "mimetype": "text/x-python",
   "name": "python",
   "nbconvert_exporter": "python",
   "pygments_lexer": "ipython3",
   "version": "3.12.3"
  }
 },
 "nbformat": 4,
 "nbformat_minor": 5
}
